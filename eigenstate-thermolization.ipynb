{
 "cells": [
  {
   "cell_type": "markdown",
   "id": "11777b59",
   "metadata": {},
   "source": [
    "# Single-particle Eigenstate Thermolization in Polariton Hamiltonians. Photonic Wire Model\n",
    "**Ribeiro Group Rotation Project A**\n",
    "\n",
    "Brian Zhao, 09 Sept 2022"
   ]
  },
  {
   "cell_type": "markdown",
   "id": "6f0df784",
   "metadata": {},
   "source": [
    "The following is adapted from Ribeiro, R. F. _Multimode Polariton Effects on Molecular Energy Transport and Spectral Fluctuations_. Commun Chem 2022, 5 (1), 1–10. https://doi.org/10.1038/s42004-022-00660-0.\n",
    "\n",
    "### Model Hamiltonian\n",
    "#### Cavity Hamiltonian\n",
    "The empty cavity Hamiltonian is given by\n",
    "$$\n",
    "H_{\\text{L}}=\\sum_q\\hbar\\omega_q a_q^{\\dagger}a_q,\n",
    "$$\n",
    "where\n",
    "$$\n",
    "\\omega_q = \\frac{c}{\\sqrt{\\epsilon}}\\sqrt{q_0^2+q^2},\n",
    "$$\n",
    "where $q_0=\\sqrt{(\\pi/L_z)^2+(\\pi/L_y)^2}$ is a constant, and $q=2\\pi m/L$ ($m\\in \\mathcal{Z}$) are the _cavity modes_.\n",
    "\n",
    "#### Matter Hamiltonian\n",
    "The Hamiltonian for the molecules are given by\n",
    "$$\n",
    "H_{\\text{M}}=\\sum_{i=1}^{N_{\\text{M}}}(\\hbar\\omega_{\\text{M}}+\\sigma_i)b_i^+b_i^-,\n",
    "$$\n",
    "where $b_i^+=|1_i\\rangle\\langle 0_i|$ and $b_i^-=|0_i\\rangle\\langle 1_i|$ creates and annihilates an excitation at the $i$-th molecule respectively, and $\\sigma_i$ is drawn from a normal distribution with variance $\\sigma^2$.\n",
    "\n",
    "#### Light-matter Hamiltonian\n",
    "Applying the Coulomb gauge in the rotating-wave approximation (ignoring double raising and lowering), we have\n",
    "$$\n",
    "H_{\\text{LM}}=\\sum_{j=1}^{N_{\\text{M}}}\\sum_q\\frac{-i\\Omega_{\\text{R}}}{2}\\sqrt{\\frac{\\omega_{\\text{M}}}{N_{\\text{M}}\\omega_q}}\\left(e^{iqx_j}b_j^+a_q-e^{iqx_j}a_q^{\\dagger}b_j^- \\right),\n",
    "$$\n",
    "where $\\Omega_{\\text{R}}=\\mu_0\\sqrt{\\hbar\\omega_0N_{\\text{M}}/2\\epsilon LL_yL_z}$, so the Hamiltonian simplifies to\n",
    "$$\n",
    "H_{\\text{LM}}=\\sum_{j=1}^{N_{\\text{M}}}\\sum_q -ig_{q}\\left(e^{iqx_j}b_j^+a_q-e^{iqx_j}a_q^{\\dagger}b_j^- \\right),\n",
    "$$\n",
    "where\n",
    "$$\n",
    "g_{q} = \\frac{\\mu_0}{2}\\sqrt{\\frac{\\hbar\\omega_{\\text{M}}\\omega_0}{2\\omega_q\\epsilon LL_yL_z}} \\equiv \\frac{g_0}{\\sqrt{\\omega_q}}.\n",
    "$$\n",
    "We assume there is only one photon."
   ]
  },
  {
   "cell_type": "code",
   "execution_count": 14,
   "id": "b635d9d9",
   "metadata": {},
   "outputs": [],
   "source": [
    "import numpy as np\n",
    "import scipy.constants as cst\n",
    "\n",
    "q_to_ev = cst.c*cst.hbar/cst.e\n",
    "\n",
    "def e_q(m,L,Ly,Lz,eps):\n",
    "    return np.sqrt((np.pi/Lz)**2 + (np.pi/Ly)**2 + (2*np.pi*m/L)**2)*q_to_ev/np.sqrt(eps)\n",
    "\n",
    "def e_m(mean, sigma):\n",
    "    return np.random.normal(mean,sigma)\n",
    "\n",
    "def total_hamil_naive(num_mol, omega_r, a, Ly, Lz, eps):\n",
    "    try:\n",
    "        assert (num_mol-1)%2 == 0\n",
    "    except AssertionError:\n",
    "        raise ValueError('num_mol needs to be 2N+1, where N is a positive integer!')\n",
    "        \n",
    "    _n = int((num_mol-1)/2)\n",
    "    _L = num_mol*a\n",
    "    \n",
    "    _diag = np.concatenate((np.array([e_q(_,_L,Ly,Lz,eps) for _ in range(-_n,_n+1)]),np.array([e_m(mean, sigma) for _ in range(num_mol)])))\n",
    "    \n",
    "    _hamil = np.zeros((2*num_mol,2*num_mol))\n",
    "    "
   ]
  },
  {
   "cell_type": "code",
   "execution_count": null,
   "id": "962384c3",
   "metadata": {},
   "outputs": [],
   "source": []
  }
 ],
 "metadata": {
  "kernelspec": {
   "display_name": "Python 3",
   "language": "python",
   "name": "python3"
  },
  "language_info": {
   "codemirror_mode": {
    "name": "ipython",
    "version": 3
   },
   "file_extension": ".py",
   "mimetype": "text/x-python",
   "name": "python",
   "nbconvert_exporter": "python",
   "pygments_lexer": "ipython3",
   "version": "3.8.8"
  }
 },
 "nbformat": 4,
 "nbformat_minor": 5
}
