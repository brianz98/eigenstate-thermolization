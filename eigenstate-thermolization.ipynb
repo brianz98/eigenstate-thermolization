{
 "cells": [
  {
   "cell_type": "markdown",
   "id": "7945c524",
   "metadata": {},
   "source": [
    "# Single-particle Eigenstate Thermolization in Polariton Hamiltonians. Photonic Wire Model\n",
    "**Ribeiro Group Rotation Project A**\n",
    "\n",
    "Brian Zhao, 09 Sept 2022"
   ]
  },
  {
   "cell_type": "markdown",
   "id": "2a019906",
   "metadata": {},
   "source": [
    "The following is adapted from Ribeiro, R. F. _Multimode Polariton Effects on Molecular Energy Transport and Spectral Fluctuations_. Commun Chem 2022, 5 (1), 1–10. https://doi.org/10.1038/s42004-022-00660-0.\n",
    "\n",
    "### Model Hamiltonian\n",
    "#### Cavity Hamiltonian\n",
    "The empty cavity Hamiltonian is given by\n",
    "$$\n",
    "H_{\\text{L}}=\\sum_q\\hbar\\omega_q a_q^{\\dagger}a_q,\n",
    "$$\n",
    "where\n",
    "$$\n",
    "\\omega_q = \\frac{c}{\\sqrt{\\epsilon}}\\sqrt{q_0^2+q^2},\n",
    "$$\n",
    "where $q_0=\\sqrt{(\\pi/L_z)^2+(\\pi/L_y)^2}$ is a constant, and $q=2\\pi m/L$ ($m\\in \\mathcal{Z}$) are the _cavity modes_.\n",
    "\n",
    "#### Matter Hamiltonian\n",
    "The Hamiltonian for the molecules are given by\n",
    "$$\n",
    "H_{\\text{M}}=\\sum_{i=1}^{N_{\\text{M}}}(\\hbar\\omega_{\\text{M}}+\\sigma_i)b_i^+b_i^-,\n",
    "$$\n",
    "where $b_i^+=|1_i\\rangle\\langle 0_i|$ and $b_i^-=|0_i\\rangle\\langle 1_i|$ creates and annihilates an excitation at the $i$-th molecule respectively, and $\\sigma_i$ is drawn from a normal distribution with variance $\\sigma^2$.\n",
    "\n",
    "#### Light-matter Hamiltonian\n",
    "Applying the Coulomb gauge in the rotating-wave approximation (ignoring double raising and lowering), we have\n",
    "$$\n",
    "H_{\\text{LM}}=\\sum_{j=1}^{N_{\\text{M}}}\\sum_q\\frac{-i\\Omega_{\\text{R}}}{2}\\sqrt{\\frac{\\omega_{\\text{M}}}{N_{\\text{M}}\\omega_q}}\\frac{\\mu_j}{\\mu_0}\\left(e^{iqx_j}b_j^+a_q-e^{iqx_j}a_q^{\\dagger}b_j^- \\right),\n",
    "$$\n",
    "where $\\Omega_{\\text{R}}=\\mu_0\\sqrt{\\hbar\\omega_0N_{\\text{M}}/2\\epsilon LL_yL_z}$, and $\\mu_j$ is drawn from a normal distribution with variance $\\sigma_{\\mu}^2$.\n",
    "\n",
    "We assume there is only one photon."
   ]
  },
  {
   "cell_type": "code",
   "execution_count": 15,
   "id": "05ff6ab8",
   "metadata": {},
   "outputs": [],
   "source": [
    "import numpy as np\n",
    "import scipy.constants as cst\n",
    "\n",
    "q_to_ev = cst.c*cst.hbar/cst.e\n",
    "\n",
    "def e_q(m,L,Ly,Lz,eps):\n",
    "    return np.sqrt((np.pi/Lz)**2 + (np.pi/Ly)**2 + (2*np.pi*m/L)**2)*q_to_ev/np.sqrt(eps)\n",
    "\n",
    "def e_m(mean, sigma):\n",
    "    return np.random.normal(mean,sigma)\n",
    "\n",
    "def mu_j(mean, sigma):\n",
    "    return np.random.normal(mean,sigma)\n",
    "\n",
    "def total_hamil_naive(num_mol, omega_r, a, Ly, Lz, eps):\n",
    "    try:\n",
    "        assert (num_mol-1)%2 == 0\n",
    "    except AssertionError:\n",
    "        raise ValueError('num_mol needs to be 2N+1, where N is a positive integer!')\n",
    "        \n",
    "    _n = int((num_mol-1)/2)\n",
    "    _L = num_mol*a\n",
    "    \n",
    "    _diag = np.concatenate((np.array([e_q(_,_L,Ly,Lz,eps) for _ in range(-_n,_n+1)]),np.array([e_m(mean, sigma) for _ in range(num_mol)])))\n",
    "    \n",
    "    _hamil = np.diag(_diag) # Fill in the diagonal elements\n",
    "    \n",
    "    # Fill in the off-diagonal elements\n",
    "    # We just fill in the light-matter block (first quadrant), and take the complex conjugate for the third quadrant.\n",
    "    for _i in range(num_mol):\n",
    "        # This is the photon loop, we can just compute mu_j once\n",
    "        _mu_j = mu_j(mu_0,sigma_mu)\n",
    "        # omega_q was already computed in _diag\n",
    "        _omega_q = _diag[_i]\n",
    "        for _j in range(num_mol,2*num_mol):\n",
    "            _hamil[i,j] = (omega_r/2)*np.sqrt(_diag[_j]/(num_mol*omega_q))*(mu_j/mu_0)*np.exp((_i*a*(_j-num_mol)-1.5*np.pi)*1j)\n",
    "            _hamil[j-num_mol,i] = np.conjugate(_hamil[i,j])\n",
    "            "
   ]
  },
  {
   "cell_type": "code",
   "execution_count": null,
   "id": "0a8553d1",
   "metadata": {},
   "outputs": [],
   "source": []
  }
 ],
 "metadata": {
  "kernelspec": {
   "display_name": "Python 3",
   "language": "python",
   "name": "python3"
  },
  "language_info": {
   "codemirror_mode": {
    "name": "ipython",
    "version": 3
   },
   "file_extension": ".py",
   "mimetype": "text/x-python",
   "name": "python",
   "nbconvert_exporter": "python",
   "pygments_lexer": "ipython3",
   "version": "3.8.8"
  }
 },
 "nbformat": 4,
 "nbformat_minor": 5
}
